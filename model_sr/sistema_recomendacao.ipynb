{
 "cells": [
  {
   "cell_type": "markdown",
   "metadata": {},
   "source": [
    "Baseado no que foi coletado pelo sistema de web scraping usa-se as informações para conseguir criar um sistema de recomendação livros!\n",
    "(Criar uma máquina preditiva por filtragem baseada em colaboração)"
   ]
  },
  {
   "cell_type": "code",
   "execution_count": 72,
   "metadata": {},
   "outputs": [],
   "source": [
    "import math\n",
    "import numpy as np\n",
    "import pandas as pd"
   ]
  },
  {
   "cell_type": "code",
   "execution_count": 3,
   "metadata": {
    "scrolled": true
   },
   "outputs": [
    {
     "data": {
      "text/html": [
       "<div>\n",
       "<style scoped>\n",
       "    .dataframe tbody tr th:only-of-type {\n",
       "        vertical-align: middle;\n",
       "    }\n",
       "\n",
       "    .dataframe tbody tr th {\n",
       "        vertical-align: top;\n",
       "    }\n",
       "\n",
       "    .dataframe thead th {\n",
       "        text-align: right;\n",
       "    }\n",
       "</style>\n",
       "<table border=\"1\" class=\"dataframe\">\n",
       "  <thead>\n",
       "    <tr style=\"text-align: right;\">\n",
       "      <th></th>\n",
       "      <th>category</th>\n",
       "      <th>rating</th>\n",
       "      <th>title</th>\n",
       "      <th>price</th>\n",
       "      <th>stock</th>\n",
       "    </tr>\n",
       "  </thead>\n",
       "  <tbody>\n",
       "    <tr>\n",
       "      <th>0</th>\n",
       "      <td>Travel</td>\n",
       "      <td>Two</td>\n",
       "      <td>It's Only the Himalayas</td>\n",
       "      <td>£45.17</td>\n",
       "      <td>In stock</td>\n",
       "    </tr>\n",
       "    <tr>\n",
       "      <th>1</th>\n",
       "      <td>Travel</td>\n",
       "      <td>Four</td>\n",
       "      <td>Full Moon over Noah’s Ark: An Odyssey to Mount...</td>\n",
       "      <td>£49.43</td>\n",
       "      <td>In stock</td>\n",
       "    </tr>\n",
       "    <tr>\n",
       "      <th>2</th>\n",
       "      <td>Travel</td>\n",
       "      <td>Three</td>\n",
       "      <td>See America: A Celebration of Our National Par...</td>\n",
       "      <td>£48.87</td>\n",
       "      <td>In stock</td>\n",
       "    </tr>\n",
       "    <tr>\n",
       "      <th>3</th>\n",
       "      <td>Travel</td>\n",
       "      <td>Two</td>\n",
       "      <td>Vagabonding: An Uncommon Guide to the Art of L...</td>\n",
       "      <td>£36.94</td>\n",
       "      <td>In stock</td>\n",
       "    </tr>\n",
       "    <tr>\n",
       "      <th>4</th>\n",
       "      <td>Travel</td>\n",
       "      <td>Three</td>\n",
       "      <td>Under the Tuscan Sun</td>\n",
       "      <td>£37.33</td>\n",
       "      <td>In stock</td>\n",
       "    </tr>\n",
       "    <tr>\n",
       "      <th>...</th>\n",
       "      <td>...</td>\n",
       "      <td>...</td>\n",
       "      <td>...</td>\n",
       "      <td>...</td>\n",
       "      <td>...</td>\n",
       "    </tr>\n",
       "    <tr>\n",
       "      <th>995</th>\n",
       "      <td>Politics</td>\n",
       "      <td>Four</td>\n",
       "      <td>Why the Right Went Wrong: Conservatism--From G...</td>\n",
       "      <td>£52.65</td>\n",
       "      <td>In stock</td>\n",
       "    </tr>\n",
       "    <tr>\n",
       "      <th>996</th>\n",
       "      <td>Politics</td>\n",
       "      <td>One</td>\n",
       "      <td>Equal Is Unfair: America's Misguided Fight Aga...</td>\n",
       "      <td>£56.86</td>\n",
       "      <td>In stock</td>\n",
       "    </tr>\n",
       "    <tr>\n",
       "      <th>997</th>\n",
       "      <td>Cultural</td>\n",
       "      <td>One</td>\n",
       "      <td>Amid the Chaos</td>\n",
       "      <td>£36.58</td>\n",
       "      <td>In stock</td>\n",
       "    </tr>\n",
       "    <tr>\n",
       "      <th>998</th>\n",
       "      <td>Erotica</td>\n",
       "      <td>Five</td>\n",
       "      <td>Dark Notes</td>\n",
       "      <td>£19.19</td>\n",
       "      <td>In stock</td>\n",
       "    </tr>\n",
       "    <tr>\n",
       "      <th>999</th>\n",
       "      <td>Crime</td>\n",
       "      <td>One</td>\n",
       "      <td>The Long Shadow of Small Ghosts: Murder and Me...</td>\n",
       "      <td>£10.97</td>\n",
       "      <td>In stock</td>\n",
       "    </tr>\n",
       "  </tbody>\n",
       "</table>\n",
       "<p>1000 rows × 5 columns</p>\n",
       "</div>"
      ],
      "text/plain": [
       "     category rating                                              title  \\\n",
       "0      Travel    Two                            It's Only the Himalayas   \n",
       "1      Travel   Four  Full Moon over Noah’s Ark: An Odyssey to Mount...   \n",
       "2      Travel  Three  See America: A Celebration of Our National Par...   \n",
       "3      Travel    Two  Vagabonding: An Uncommon Guide to the Art of L...   \n",
       "4      Travel  Three                               Under the Tuscan Sun   \n",
       "..        ...    ...                                                ...   \n",
       "995  Politics   Four  Why the Right Went Wrong: Conservatism--From G...   \n",
       "996  Politics    One  Equal Is Unfair: America's Misguided Fight Aga...   \n",
       "997  Cultural    One                                     Amid the Chaos   \n",
       "998   Erotica   Five                                         Dark Notes   \n",
       "999     Crime    One  The Long Shadow of Small Ghosts: Murder and Me...   \n",
       "\n",
       "      price     stock  \n",
       "0    £45.17  In stock  \n",
       "1    £49.43  In stock  \n",
       "2    £48.87  In stock  \n",
       "3    £36.94  In stock  \n",
       "4    £37.33  In stock  \n",
       "..      ...       ...  \n",
       "995  £52.65  In stock  \n",
       "996  £56.86  In stock  \n",
       "997  £36.58  In stock  \n",
       "998  £19.19  In stock  \n",
       "999  £10.97  In stock  \n",
       "\n",
       "[1000 rows x 5 columns]"
      ]
     },
     "execution_count": 3,
     "metadata": {},
     "output_type": "execute_result"
    }
   ],
   "source": [
    "df = pd.read_csv('repositorio.csv', encoding = 'utf-8', delimiter = ';')\n",
    "df"
   ]
  },
  {
   "cell_type": "markdown",
   "metadata": {},
   "source": [
    "## Tratamento dos dados"
   ]
  },
  {
   "cell_type": "code",
   "execution_count": 41,
   "metadata": {},
   "outputs": [],
   "source": [
    "# Atribuinndo valores numéricos as notas\n",
    "rating = {'One':1, 'Two':2, 'Three':3,'Four':4,'Five':5}\n",
    "numerical_rating = []\n",
    "for rate in df.rating.values:\n",
    "    numerical_rating.append(rating[rate])"
   ]
  },
  {
   "cell_type": "code",
   "execution_count": 42,
   "metadata": {},
   "outputs": [],
   "source": [
    "# Atribuino\n",
    "df['numerical_rating'] = numerical_rating"
   ]
  },
  {
   "cell_type": "code",
   "execution_count": 43,
   "metadata": {},
   "outputs": [
    {
     "data": {
      "text/html": [
       "<div>\n",
       "<style scoped>\n",
       "    .dataframe tbody tr th:only-of-type {\n",
       "        vertical-align: middle;\n",
       "    }\n",
       "\n",
       "    .dataframe tbody tr th {\n",
       "        vertical-align: top;\n",
       "    }\n",
       "\n",
       "    .dataframe thead th {\n",
       "        text-align: right;\n",
       "    }\n",
       "</style>\n",
       "<table border=\"1\" class=\"dataframe\">\n",
       "  <thead>\n",
       "    <tr style=\"text-align: right;\">\n",
       "      <th></th>\n",
       "      <th>category</th>\n",
       "      <th>rating</th>\n",
       "      <th>title</th>\n",
       "      <th>price</th>\n",
       "      <th>stock</th>\n",
       "      <th>numerical_rating</th>\n",
       "    </tr>\n",
       "  </thead>\n",
       "  <tbody>\n",
       "    <tr>\n",
       "      <th>0</th>\n",
       "      <td>Travel</td>\n",
       "      <td>Two</td>\n",
       "      <td>It's Only the Himalayas</td>\n",
       "      <td>£45.17</td>\n",
       "      <td>In stock</td>\n",
       "      <td>2</td>\n",
       "    </tr>\n",
       "    <tr>\n",
       "      <th>1</th>\n",
       "      <td>Travel</td>\n",
       "      <td>Four</td>\n",
       "      <td>Full Moon over Noah’s Ark: An Odyssey to Mount...</td>\n",
       "      <td>£49.43</td>\n",
       "      <td>In stock</td>\n",
       "      <td>4</td>\n",
       "    </tr>\n",
       "    <tr>\n",
       "      <th>2</th>\n",
       "      <td>Travel</td>\n",
       "      <td>Three</td>\n",
       "      <td>See America: A Celebration of Our National Par...</td>\n",
       "      <td>£48.87</td>\n",
       "      <td>In stock</td>\n",
       "      <td>3</td>\n",
       "    </tr>\n",
       "    <tr>\n",
       "      <th>3</th>\n",
       "      <td>Travel</td>\n",
       "      <td>Two</td>\n",
       "      <td>Vagabonding: An Uncommon Guide to the Art of L...</td>\n",
       "      <td>£36.94</td>\n",
       "      <td>In stock</td>\n",
       "      <td>2</td>\n",
       "    </tr>\n",
       "    <tr>\n",
       "      <th>4</th>\n",
       "      <td>Travel</td>\n",
       "      <td>Three</td>\n",
       "      <td>Under the Tuscan Sun</td>\n",
       "      <td>£37.33</td>\n",
       "      <td>In stock</td>\n",
       "      <td>3</td>\n",
       "    </tr>\n",
       "    <tr>\n",
       "      <th>...</th>\n",
       "      <td>...</td>\n",
       "      <td>...</td>\n",
       "      <td>...</td>\n",
       "      <td>...</td>\n",
       "      <td>...</td>\n",
       "      <td>...</td>\n",
       "    </tr>\n",
       "    <tr>\n",
       "      <th>995</th>\n",
       "      <td>Politics</td>\n",
       "      <td>Four</td>\n",
       "      <td>Why the Right Went Wrong: Conservatism--From G...</td>\n",
       "      <td>£52.65</td>\n",
       "      <td>In stock</td>\n",
       "      <td>4</td>\n",
       "    </tr>\n",
       "    <tr>\n",
       "      <th>996</th>\n",
       "      <td>Politics</td>\n",
       "      <td>One</td>\n",
       "      <td>Equal Is Unfair: America's Misguided Fight Aga...</td>\n",
       "      <td>£56.86</td>\n",
       "      <td>In stock</td>\n",
       "      <td>1</td>\n",
       "    </tr>\n",
       "    <tr>\n",
       "      <th>997</th>\n",
       "      <td>Cultural</td>\n",
       "      <td>One</td>\n",
       "      <td>Amid the Chaos</td>\n",
       "      <td>£36.58</td>\n",
       "      <td>In stock</td>\n",
       "      <td>1</td>\n",
       "    </tr>\n",
       "    <tr>\n",
       "      <th>998</th>\n",
       "      <td>Erotica</td>\n",
       "      <td>Five</td>\n",
       "      <td>Dark Notes</td>\n",
       "      <td>£19.19</td>\n",
       "      <td>In stock</td>\n",
       "      <td>5</td>\n",
       "    </tr>\n",
       "    <tr>\n",
       "      <th>999</th>\n",
       "      <td>Crime</td>\n",
       "      <td>One</td>\n",
       "      <td>The Long Shadow of Small Ghosts: Murder and Me...</td>\n",
       "      <td>£10.97</td>\n",
       "      <td>In stock</td>\n",
       "      <td>1</td>\n",
       "    </tr>\n",
       "  </tbody>\n",
       "</table>\n",
       "<p>1000 rows × 6 columns</p>\n",
       "</div>"
      ],
      "text/plain": [
       "     category rating                                              title  \\\n",
       "0      Travel    Two                            It's Only the Himalayas   \n",
       "1      Travel   Four  Full Moon over Noah’s Ark: An Odyssey to Mount...   \n",
       "2      Travel  Three  See America: A Celebration of Our National Par...   \n",
       "3      Travel    Two  Vagabonding: An Uncommon Guide to the Art of L...   \n",
       "4      Travel  Three                               Under the Tuscan Sun   \n",
       "..        ...    ...                                                ...   \n",
       "995  Politics   Four  Why the Right Went Wrong: Conservatism--From G...   \n",
       "996  Politics    One  Equal Is Unfair: America's Misguided Fight Aga...   \n",
       "997  Cultural    One                                     Amid the Chaos   \n",
       "998   Erotica   Five                                         Dark Notes   \n",
       "999     Crime    One  The Long Shadow of Small Ghosts: Murder and Me...   \n",
       "\n",
       "      price     stock  numerical_rating  \n",
       "0    £45.17  In stock                 2  \n",
       "1    £49.43  In stock                 4  \n",
       "2    £48.87  In stock                 3  \n",
       "3    £36.94  In stock                 2  \n",
       "4    £37.33  In stock                 3  \n",
       "..      ...       ...               ...  \n",
       "995  £52.65  In stock                 4  \n",
       "996  £56.86  In stock                 1  \n",
       "997  £36.58  In stock                 1  \n",
       "998  £19.19  In stock                 5  \n",
       "999  £10.97  In stock                 1  \n",
       "\n",
       "[1000 rows x 6 columns]"
      ]
     },
     "execution_count": 43,
     "metadata": {},
     "output_type": "execute_result"
    }
   ],
   "source": [
    "df"
   ]
  },
  {
   "cell_type": "markdown",
   "metadata": {},
   "source": [
    "### No caso queremos criar uma modelo de recomendação de sistema baseado em conteúdo e gênero do livro, então será bom atribuir valores as categorias para que o modelo possa predizer os livros com base nesse dois valores."
   ]
  },
  {
   "cell_type": "code",
   "execution_count": 74,
   "metadata": {},
   "outputs": [],
   "source": [
    "# Atribuindo valores para categorias\n",
    "dict_category = {}\n",
    "for value in range(len(df.category.unique())):\n",
    "    dict_category[df.category.unique()[value]] = value +1 "
   ]
  },
  {
   "cell_type": "markdown",
   "metadata": {},
   "source": [
    "### Análise exploratória de dados"
   ]
  },
  {
   "cell_type": "code",
   "execution_count": 107,
   "metadata": {},
   "outputs": [
    {
     "data": {
      "image/png": "[encoded data removed]",
      "text/plain": [
       "<Figure size 640x480 with 1 Axes>"
      ]
     },
     "metadata": {},
     "output_type": "display_data"
    }
   ],
   "source": [
    "plt.scatter(x = df.rating.value_counts().index,y = df.rating.value_counts().values,color = 'green')\n",
    "plt.plot(df.rating.value_counts())\n",
    "plt.xlabel('NOTA DOS LIVROS')\n",
    "plt.ylabel('QUANTIDADE DE LIVROS')\n",
    "plt.show()"
   ]
  },
  {
   "cell_type": "markdown",
   "metadata": {},
   "source": [
    "## Construindo sistema de recomendação baseado em itens mais populares"
   ]
  },
  {
   "cell_type": "markdown",
   "metadata": {},
   "source": [
    "### A ideia para construção do sistema é pegar amostras aleatórias de livros de mesma categoria e a partir disso  recomendar livros baseado nos conteúdos dos usuários por categorias baseado na melhor nota(nesse caso é o melhor que podemos fazer, já que não se tem uma base de título lidos por usuários)"
   ]
  },
  {
   "cell_type": "code",
   "execution_count": 71,
   "metadata": {},
   "outputs": [
    {
     "data": {
      "text/plain": [
       "['Zero History (Blue Ant #3)',\n",
       " 'World War Z: An Oral History of the Zombie War',\n",
       " 'Wildlife of New York: A Five-Borough Coloring Book',\n",
       " 'Wild: From Lost to Found on the Pacific Crest Trail',\n",
       " \"Where'd You Go, Bernadette\"]"
      ]
     },
     "execution_count": 71,
     "metadata": {},
     "output_type": "execute_result"
    }
   ],
   "source": [
    "# Para construir o sistema basta seguir os seguintes passos\n",
    "# 1) Tome a categoria que o usuário tem como base ou já leu\n",
    "categoria_usuario = 'Default'\n",
    "# 2) busque a categoria e veja qual sugestão existente para ele dos melhores aos piores livros\n",
    "sugestoes = df[df['category']==categoria_usuario]\n",
    "livros_notas_crescentes = suggestions.sort_values(by= 'numerical_rating').title\n",
    "# 3) puxe por exemplo os 5 primeiros livros(se houver) com maior nota na categoria\n",
    "titulos_sugeridos = sorted(list(livros_notas_crescentes), reverse = True)\n",
    "# 4) mostrando os resultados mais bem avaliados\n",
    "titulos_sugeridos[0:5]"
   ]
  },
  {
   "cell_type": "markdown",
   "metadata": {},
   "source": [
    "### Para tornar o sistema mais complexo uma boa ideia armazenar informações sobre o usuário caso ele leia sinopse do livro e não queira o livros sugerido, podemos armazer em um vetor de informações que o usuário não gostou e assim ir sugerindo as próximas o que está mais a baixo no ranking"
   ]
  },
  {
   "cell_type": "code",
   "execution_count": 127,
   "metadata": {},
   "outputs": [
    {
     "name": "stdout",
     "output_type": "stream",
     "text": [
      "Zero History (Blue Ant #3)\n",
      "World War Z: An Oral History of the Zombie War\n",
      "Wildlife of New York: A Five-Borough Coloring Book\n",
      "Where'd You Go, Bernadette\n",
      "What If?: Serious Scientific Answers to Absurd Hypothetical Questions\n"
     ]
    }
   ],
   "source": [
    "# Suponhas então que o usuário tenha clicado em não gostar no item 3 por exemplo\n",
    "# Então o ideial seria armazenar isso para o usuário em um vetor de não gostei\n",
    "# Pode-se por exemplo ter o id do livro ou um numero que o identifique desse modo pode ser melhor e computacionalmente\n",
    "# mais eficiente na hora de analisar o que está no vetor de deslikes\n",
    "deslikes = []\n",
    "indice_gostos = []\n",
    "# 1) Para construir a solução é necessário pegar uma medida identificação supondo que bastanta enumerarmos o vetor temos\n",
    "possiveis_gostos = list(enumerate(titulos_sugeridos))\n",
    "# 2) Então se o usuário não quer o 3 chamamos a função adiciona elemento em deslikes\n",
    "deslikes.append(3)\n",
    "# 3) Agora como temos 3 adicionado no que ele não deve ter gostado puxarmos o vetor\n",
    "contador = 0\n",
    "for i in range(len(titulos_sugeridos)):\n",
    "    if contador==5:\n",
    "        break\n",
    "    if i not in deslikes:\n",
    "        contador+=1\n",
    "        indice_gostos.append(i)\n",
    "for contador in indice_gostos:\n",
    "    print(titulos_sugeridos[contador])"
   ]
  },
  {
   "cell_type": "code",
   "execution_count": 128,
   "metadata": {},
   "outputs": [
    {
     "name": "stdout",
     "output_type": "stream",
     "text": [
      "[0, 1, 2, 4, 5]\n"
     ]
    }
   ],
   "source": [
    "print(indice_gostos)"
   ]
  },
  {
   "cell_type": "markdown",
   "metadata": {},
   "source": [
    "### Sistema baseado em conteúdos"
   ]
  },
  {
   "cell_type": "code",
   "execution_count": 9,
   "metadata": {},
   "outputs": [],
   "source": [
    "users_interests = [\n",
    "[\"Hadoop\", \"Big Data\", \"HBase\", \"Java\", \"Spark\", \"Storm\", \"Cassandra\"],\n",
    "[\"NoSQL\", \"MongoDB\", \"Cassandra\", \"HBase\", \"Postgres\"],\n",
    "[\"Python\", \"scikit-learn\", \"scipy\", \"numpy\", \"statsmodels\", \"pandas\"],\n",
    "[\"R\", \"Python\", \"statistics\", \"regression\", \"probability\"],\n",
    "[\"machine learning\", \"regression\", \"decision trees\", \"libsvm\"],\n",
    "[\"Python\", \"R\", \"Java\", \"C++\", \"Haskell\", \"programming languages\"],\n",
    "[\"statistics\", \"probability\", \"mathematics\", \"theory\"],\n",
    "[\"machine learning\", \"scikit-learn\", \"Mahout\", \"neural networks\"],\n",
    "[\"neural networks\", \"deep learning\", \"Big Data\", \"artificial intelligence\"],\n",
    "[\"Hadoop\", \"Java\", \"MapReduce\", \"Big Data\"],\n",
    "[\"statistics\", \"R\", \"statsmodels\"],\n",
    "[\"C++\", \"deep learning\", \"artificial intelligence\", \"probability\"],\n",
    "[\"pandas\", \"R\", \"Python\"],\n",
    "[\"databases\", \"HBase\", \"Postgres\", \"MySQL\", \"MongoDB\"],\n",
    "[\"libsvm\", \"regression\", \"support vector machines\"]\n",
    "]"
   ]
  },
  {
   "cell_type": "code",
   "execution_count": 10,
   "metadata": {},
   "outputs": [],
   "source": [
    "unique_interests = sorted(list({ interest\n",
    "for user_interests in users_interests\n",
    "for interest in user_interests }))"
   ]
  },
  {
   "cell_type": "code",
   "execution_count": 11,
   "metadata": {},
   "outputs": [
    {
     "data": {
      "text/plain": [
       "[(0, 'Big Data'),\n",
       " (1, 'C++'),\n",
       " (2, 'Cassandra'),\n",
       " (3, 'HBase'),\n",
       " (4, 'Hadoop'),\n",
       " (5, 'Haskell'),\n",
       " (6, 'Java'),\n",
       " (7, 'Mahout'),\n",
       " (8, 'MapReduce'),\n",
       " (9, 'MongoDB'),\n",
       " (10, 'MySQL'),\n",
       " (11, 'NoSQL'),\n",
       " (12, 'Postgres'),\n",
       " (13, 'Python'),\n",
       " (14, 'R'),\n",
       " (15, 'Spark'),\n",
       " (16, 'Storm'),\n",
       " (17, 'artificial intelligence'),\n",
       " (18, 'databases'),\n",
       " (19, 'decision trees'),\n",
       " (20, 'deep learning'),\n",
       " (21, 'libsvm'),\n",
       " (22, 'machine learning'),\n",
       " (23, 'mathematics'),\n",
       " (24, 'neural networks'),\n",
       " (25, 'numpy'),\n",
       " (26, 'pandas'),\n",
       " (27, 'probability'),\n",
       " (28, 'programming languages'),\n",
       " (29, 'regression'),\n",
       " (30, 'scikit-learn'),\n",
       " (31, 'scipy'),\n",
       " (32, 'statistics'),\n",
       " (33, 'statsmodels'),\n",
       " (34, 'support vector machines'),\n",
       " (35, 'theory')]"
      ]
     },
     "execution_count": 11,
     "metadata": {},
     "output_type": "execute_result"
    }
   ],
   "source": [
    "list(enumerate(unique_interests))"
   ]
  },
  {
   "cell_type": "code",
   "execution_count": 74,
   "metadata": {},
   "outputs": [],
   "source": [
    "#Similiaridade de cosseno\n",
    "def cosine_similarity(v, w):\n",
    "    return np.dot(v, w) / math.sqrt(np.dot(v, v) * np.dot(w, w))"
   ]
  },
  {
   "cell_type": "code",
   "execution_count": 13,
   "metadata": {},
   "outputs": [],
   "source": [
    "#dada uma lista de interesses, produza um vetor cujo i-ésimo elemento é 1 se unique_interests[i] está na lista, senão 0\n",
    "def make_user_interest_vector(user_interests):\n",
    "    return [1 if interest in user_interests else 0 for interest in unique_interests]\n",
    "user_interest_matrix = list(map(make_user_interest_vector, users_interests))"
   ]
  },
  {
   "cell_type": "code",
   "execution_count": 63,
   "metadata": {},
   "outputs": [
    {
     "name": "stdout",
     "output_type": "stream",
     "text": [
      "[1, 0, 1, 1, 1, 0, 1, 0, 0, 0, 0, 0, 0, 0, 0, 1, 1, 0, 0, 0, 0, 0, 0, 0, 0, 0, 0, 0, 0, 0, 0, 0, 0, 0, 0, 0]\n",
      "[0, 0, 1, 1, 0, 0, 0, 0, 0, 1, 0, 1, 1, 0, 0, 0, 0, 0, 0, 0, 0, 0, 0, 0, 0, 0, 0, 0, 0, 0, 0, 0, 0, 0, 0, 0]\n",
      "[0, 0, 0, 0, 0, 0, 0, 0, 0, 0, 0, 0, 0, 1, 0, 0, 0, 0, 0, 0, 0, 0, 0, 0, 0, 1, 1, 0, 0, 0, 1, 1, 0, 1, 0, 0]\n",
      "[0, 0, 0, 0, 0, 0, 0, 0, 0, 0, 0, 0, 0, 1, 1, 0, 0, 0, 0, 0, 0, 0, 0, 0, 0, 0, 0, 1, 0, 1, 0, 0, 1, 0, 0, 0]\n",
      "[0, 0, 0, 0, 0, 0, 0, 0, 0, 0, 0, 0, 0, 0, 0, 0, 0, 0, 0, 1, 0, 1, 1, 0, 0, 0, 0, 0, 0, 1, 0, 0, 0, 0, 0, 0]\n",
      "[0, 1, 0, 0, 0, 1, 1, 0, 0, 0, 0, 0, 0, 1, 1, 0, 0, 0, 0, 0, 0, 0, 0, 0, 0, 0, 0, 0, 1, 0, 0, 0, 0, 0, 0, 0]\n",
      "[0, 0, 0, 0, 0, 0, 0, 0, 0, 0, 0, 0, 0, 0, 0, 0, 0, 0, 0, 0, 0, 0, 0, 1, 0, 0, 0, 1, 0, 0, 0, 0, 1, 0, 0, 1]\n",
      "[0, 0, 0, 0, 0, 0, 0, 1, 0, 0, 0, 0, 0, 0, 0, 0, 0, 0, 0, 0, 0, 0, 1, 0, 1, 0, 0, 0, 0, 0, 1, 0, 0, 0, 0, 0]\n",
      "[1, 0, 0, 0, 0, 0, 0, 0, 0, 0, 0, 0, 0, 0, 0, 0, 0, 1, 0, 0, 1, 0, 0, 0, 1, 0, 0, 0, 0, 0, 0, 0, 0, 0, 0, 0]\n",
      "[1, 0, 0, 0, 1, 0, 1, 0, 1, 0, 0, 0, 0, 0, 0, 0, 0, 0, 0, 0, 0, 0, 0, 0, 0, 0, 0, 0, 0, 0, 0, 0, 0, 0, 0, 0]\n",
      "[0, 0, 0, 0, 0, 0, 0, 0, 0, 0, 0, 0, 0, 0, 1, 0, 0, 0, 0, 0, 0, 0, 0, 0, 0, 0, 0, 0, 0, 0, 0, 0, 1, 1, 0, 0]\n",
      "[0, 1, 0, 0, 0, 0, 0, 0, 0, 0, 0, 0, 0, 0, 0, 0, 0, 1, 0, 0, 1, 0, 0, 0, 0, 0, 0, 1, 0, 0, 0, 0, 0, 0, 0, 0]\n",
      "[0, 0, 0, 0, 0, 0, 0, 0, 0, 0, 0, 0, 0, 1, 1, 0, 0, 0, 0, 0, 0, 0, 0, 0, 0, 0, 1, 0, 0, 0, 0, 0, 0, 0, 0, 0]\n",
      "[0, 0, 0, 1, 0, 0, 0, 0, 0, 1, 1, 0, 1, 0, 0, 0, 0, 0, 1, 0, 0, 0, 0, 0, 0, 0, 0, 0, 0, 0, 0, 0, 0, 0, 0, 0]\n",
      "[0, 0, 0, 0, 0, 0, 0, 0, 0, 0, 0, 0, 0, 0, 0, 0, 0, 0, 0, 0, 0, 1, 0, 0, 0, 0, 0, 0, 0, 1, 0, 0, 0, 0, 1, 0]\n"
     ]
    }
   ],
   "source": [
    "for i in user_interest_matrix:\n",
    "    print(i)"
   ]
  },
  {
   "cell_type": "code",
   "execution_count": 75,
   "metadata": {},
   "outputs": [],
   "source": [
    "# Processo de transposição\n",
    "interest_user_matrix = [[user_interest_vector[j] for user_interest_vector in user_interest_matrix]\n",
    "                        for j, _ in enumerate(unique_interests)]"
   ]
  },
  {
   "cell_type": "code",
   "execution_count": 79,
   "metadata": {},
   "outputs": [
    {
     "data": {
      "text/plain": [
       "[1, 0, 0, 0, 0, 0, 0, 0, 1, 1, 0, 0, 0, 0, 0]"
      ]
     },
     "execution_count": 79,
     "metadata": {},
     "output_type": "execute_result"
    }
   ],
   "source": [
    "interest_user_matrix[0]"
   ]
  },
  {
   "cell_type": "code",
   "execution_count": 77,
   "metadata": {},
   "outputs": [],
   "source": [
    "interest_similarities = [[cosine_similarity(user_vector_i, user_vector_j)\n",
    "for user_vector_j in interest_user_matrix]\n",
    "for user_vector_i in interest_user_matrix]"
   ]
  },
  {
   "cell_type": "code",
   "execution_count": 113,
   "metadata": {},
   "outputs": [],
   "source": [
    "def most_similar_interests_to(interest_id):\n",
    "    similarities = interest_similarities[interest_id]\n",
    "    pairs = [(similarity,unique_interests[other_interest_id])\n",
    "    for other_interest_id, similarity in enumerate(similarities)\n",
    "    if interest_id != other_interest_id and similarity > 0]\n",
    "    return sorted(pairs,reverse=True)"
   ]
  },
  {
   "cell_type": "code",
   "execution_count": 114,
   "metadata": {},
   "outputs": [
    {
     "data": {
      "text/plain": [
       "[(0.8164965809277261, 'Hadoop'),\n",
       " (0.6666666666666666, 'Java'),\n",
       " (0.5773502691896258, 'Storm'),\n",
       " (0.5773502691896258, 'Spark'),\n",
       " (0.5773502691896258, 'MapReduce'),\n",
       " (0.4082482904638631, 'neural networks'),\n",
       " (0.4082482904638631, 'deep learning'),\n",
       " (0.4082482904638631, 'artificial intelligence'),\n",
       " (0.4082482904638631, 'Cassandra'),\n",
       " (0.3333333333333333, 'HBase')]"
      ]
     },
     "execution_count": 114,
     "metadata": {},
     "output_type": "execute_result"
    }
   ],
   "source": [
    "similaridade = most_similar_interests_to(0)\n",
    "similaridade"
   ]
  },
  {
   "cell_type": "code",
   "execution_count": 122,
   "metadata": {},
   "outputs": [],
   "source": [
    "from collections import defaultdict\n",
    "def item_based_suggestions(user_id, include_current_interests=False):\n",
    "    # soma interesses similares\n",
    "    suggestions = defaultdict(float)\n",
    "    user_interest_vector = user_interest_matrix[user_id]\n",
    "    for interest_id, is_interested in enumerate(user_interest_vector):\n",
    "        if is_interested == 1:\n",
    "            similar_interests = most_similar_interests_to(interest_id)\n",
    "            for similarity, interest in similar_interests:\n",
    "                suggestions[interest] += similarity\n",
    "    # ordena por peso\n",
    "    suggestions = sorted(suggestions.items(),reverse=True)\n",
    "    print(suggestions)\n",
    "    if include_current_interests:\n",
    "        return suggestions\n",
    "    else:\n",
    "        return [(suggestion, weight) for suggestion, weight in suggestions if suggestion not in users_interests[user_id]]"
   ]
  },
  {
   "cell_type": "code",
   "execution_count": 123,
   "metadata": {},
   "outputs": [
    {
     "name": "stdout",
     "output_type": "stream",
     "text": [
      "[('programming languages', 0.5773502691896258), ('neural networks', 0.4082482904638631), ('deep learning', 0.4082482904638631), ('databases', 0.5773502691896258), ('artificial intelligence', 0.4082482904638631), ('Storm', 4.146264369941973), ('Spark', 4.146264369941973), ('R', 0.2886751345948129), ('Python', 0.2886751345948129), ('Postgres', 1.3164965809277263), ('NoSQL', 1.2844570503761732), ('MySQL', 0.5773502691896258), ('MongoDB', 1.3164965809277263), ('MapReduce', 1.861807319565799), ('Java', 3.3794454097708404), ('Haskell', 0.5773502691896258), ('Hadoop', 3.9554550146924106), ('HBase', 3.0461120764375074), ('Cassandra', 3.547206724228547), ('C++', 0.4082482904638631), ('Big Data', 3.3794454097708404)]\n"
     ]
    },
    {
     "data": {
      "text/plain": [
       "[('programming languages', 0.5773502691896258),\n",
       " ('neural networks', 0.4082482904638631),\n",
       " ('deep learning', 0.4082482904638631),\n",
       " ('databases', 0.5773502691896258),\n",
       " ('artificial intelligence', 0.4082482904638631),\n",
       " ('R', 0.2886751345948129),\n",
       " ('Python', 0.2886751345948129),\n",
       " ('Postgres', 1.3164965809277263),\n",
       " ('NoSQL', 1.2844570503761732),\n",
       " ('MySQL', 0.5773502691896258),\n",
       " ('MongoDB', 1.3164965809277263),\n",
       " ('MapReduce', 1.861807319565799),\n",
       " ('Haskell', 0.5773502691896258),\n",
       " ('C++', 0.4082482904638631)]"
      ]
     },
     "execution_count": 123,
     "metadata": {},
     "output_type": "execute_result"
    }
   ],
   "source": [
    "item_based_suggestions(0)"
   ]
  }
 ],
 "metadata": {
  "kernelspec": {
   "display_name": "Python 3 (ipykernel)",
   "language": "python",
   "name": "python3"
  },
  "language_info": {
   "codemirror_mode": {
    "name": "ipython",
    "version": 3
   },
   "file_extension": ".py",
   "mimetype": "text/x-python",
   "name": "python",
   "nbconvert_exporter": "python",
   "pygments_lexer": "ipython3",
   "version": "3.9.13"
  }
 },
 "nbformat": 4,
 "nbformat_minor": 2
}
